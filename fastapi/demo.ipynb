{
 "cells": [
  {
   "cell_type": "markdown",
   "metadata": {},
   "source": [
    "# FastAPI + Uvicorn Demo"
   ]
  },
  {
   "cell_type": "code",
   "execution_count": 1,
   "metadata": {},
   "outputs": [],
   "source": [
    "import json\n",
    "import os\n",
    "import subprocess\n",
    "import webbrowser\n",
    "\n",
    "import psutil\n",
    "import requests"
   ]
  },
  {
   "cell_type": "code",
   "execution_count": 2,
   "metadata": {},
   "outputs": [],
   "source": [
    "# remove database file if exists to start fresh\n",
    "if os.path.isfile(\"app.db\"):\n",
    "    os.remove(\"app.db\")"
   ]
  },
  {
   "cell_type": "code",
   "execution_count": 3,
   "metadata": {},
   "outputs": [],
   "source": [
    "# readable output for JSON\n",
    "def print_readable_json(x: dict, indent: int = 2):\n",
    "    print(json.dumps(x, indent=indent))"
   ]
  },
  {
   "cell_type": "code",
   "execution_count": 4,
   "metadata": {},
   "outputs": [
    {
     "name": "stdout",
     "output_type": "stream",
     "text": [
      "uvicorn host process started with pid: 11192\n"
     ]
    }
   ],
   "source": [
    "# start and track a uvicorn subprocess\n",
    "uvicorn_proc = subprocess.Popen([\"python\", \"./app/uvicorn_host.py\"])\n",
    "print(\"uvicorn host process started with pid: {}\".format(uvicorn_proc.pid))"
   ]
  },
  {
   "cell_type": "code",
   "execution_count": 5,
   "metadata": {},
   "outputs": [
    {
     "name": "stdout",
     "output_type": "stream",
     "text": [
      "uvicorn pid exists: True\n"
     ]
    }
   ],
   "source": [
    "print(\"uvicorn pid exists: {}\".format(psutil.pid_exists(uvicorn_proc.pid)))"
   ]
  },
  {
   "cell_type": "code",
   "execution_count": 6,
   "metadata": {},
   "outputs": [],
   "source": [
    "target = \"http://localhost:5000\""
   ]
  },
  {
   "cell_type": "code",
   "execution_count": 7,
   "metadata": {},
   "outputs": [
    {
     "data": {
      "text/plain": [
       "True"
      ]
     },
     "execution_count": 7,
     "metadata": {},
     "output_type": "execute_result"
    }
   ],
   "source": [
    "# open the docs page for demonstrational purposes\n",
    "webbrowser.open(\"{}/docs\".format(target))"
   ]
  },
  {
   "cell_type": "code",
   "execution_count": 8,
   "metadata": {},
   "outputs": [
    {
     "name": "stdout",
     "output_type": "stream",
     "text": [
      "{\n",
      "  \"Hello\": \"World\"\n",
      "}\n"
     ]
    }
   ],
   "source": [
    "# test hello world\n",
    "resp = requests.get(target)\n",
    "print_readable_json(resp.json())"
   ]
  },
  {
   "cell_type": "code",
   "execution_count": 9,
   "metadata": {},
   "outputs": [
    {
     "name": "stdout",
     "output_type": "stream",
     "text": [
      "{\n",
      "  \"item_id\": 1,\n",
      "  \"q\": \"first item description\"\n",
      "}\n"
     ]
    }
   ],
   "source": [
    "# make an items request\n",
    "resp = requests.get(\"{}/items/1\".format(target), params={\"q\": \"first item description\"})\n",
    "print_readable_json(resp.json())"
   ]
  },
  {
   "cell_type": "code",
   "execution_count": 10,
   "metadata": {},
   "outputs": [
    {
     "name": "stdout",
     "output_type": "stream",
     "text": [
      "{\n",
      "  \"detail\": [\n",
      "    {\n",
      "      \"loc\": [\n",
      "        \"path\",\n",
      "        \"item_id\"\n",
      "      ],\n",
      "      \"msg\": \"value is not a valid integer\",\n",
      "      \"type\": \"type_error.integer\"\n",
      "    }\n",
      "  ]\n",
      "}\n"
     ]
    }
   ],
   "source": [
    "# send an improper request through\n",
    "resp = requests.get(\n",
    "    \"{}/items/first\".format(target), params={\"q\": \"first item description\"}\n",
    ")\n",
    "print_readable_json(resp.json())"
   ]
  },
  {
   "cell_type": "code",
   "execution_count": 11,
   "metadata": {},
   "outputs": [
    {
     "name": "stdout",
     "output_type": "stream",
     "text": [
      "[\n",
      "  {\n",
      "    \"uid\": 0,\n",
      "    \"alcohol\": 14.23,\n",
      "    \"malic_acid\": 1.71,\n",
      "    \"ash\": 2.43,\n",
      "    \"alcalinity_of_ash\": 15.6,\n",
      "    \"magnesium\": 127.0,\n",
      "    \"total_phenols\": 2.8,\n",
      "    \"flavanoids\": 3.06,\n",
      "    \"nonflavanoid_phenols\": 0.28,\n",
      "    \"proanthocyanins\": 2.29,\n",
      "    \"color_intensity\": 5.64,\n",
      "    \"hue\": 1.04,\n",
      "    \"od280_od315_of_diluted_wines\": 3.92,\n",
      "    \"proline\": 1065.0\n",
      "  }\n",
      "]\n"
     ]
    }
   ],
   "source": [
    "# get from the sklean dataset\n",
    "resp = requests.get(\"{}/sklearn_wine\".format(target))\n",
    "sklearn_dataset = resp.json()\n",
    "print_readable_json(sklearn_dataset[:1])"
   ]
  },
  {
   "cell_type": "code",
   "execution_count": 12,
   "metadata": {},
   "outputs": [
    {
     "name": "stdout",
     "output_type": "stream",
     "text": [
      "{\n",
      "  \"processed\": 178,\n",
      "  \"message\": null\n",
      "}\n"
     ]
    }
   ],
   "source": [
    "# post records to the database\n",
    "resp = requests.post(\"{}/sqlite_wine\".format(target), data=json.dumps(sklearn_dataset))\n",
    "print_readable_json(resp.json())"
   ]
  },
  {
   "cell_type": "code",
   "execution_count": 13,
   "metadata": {},
   "outputs": [
    {
     "name": "stdout",
     "output_type": "stream",
     "text": [
      "[\n",
      "  {\n",
      "    \"uid\": 0,\n",
      "    \"alcohol\": 14.23,\n",
      "    \"malic_acid\": 1.71,\n",
      "    \"ash\": 2.43,\n",
      "    \"alcalinity_of_ash\": 15.6,\n",
      "    \"magnesium\": 127.0,\n",
      "    \"total_phenols\": 2.8,\n",
      "    \"flavanoids\": 3.06,\n",
      "    \"nonflavanoid_phenols\": 0.28,\n",
      "    \"proanthocyanins\": 2.29,\n",
      "    \"color_intensity\": 5.64,\n",
      "    \"hue\": 1.04,\n",
      "    \"od280_od315_of_diluted_wines\": 3.92,\n",
      "    \"proline\": 1065.0\n",
      "  },\n",
      "  {\n",
      "    \"uid\": 1,\n",
      "    \"alcohol\": 13.2,\n",
      "    \"malic_acid\": 1.78,\n",
      "    \"ash\": 2.14,\n",
      "    \"alcalinity_of_ash\": 11.2,\n",
      "    \"magnesium\": 100.0,\n",
      "    \"total_phenols\": 2.65,\n",
      "    \"flavanoids\": 2.76,\n",
      "    \"nonflavanoid_phenols\": 0.26,\n",
      "    \"proanthocyanins\": 1.28,\n",
      "    \"color_intensity\": 4.38,\n",
      "    \"hue\": 1.05,\n",
      "    \"od280_od315_of_diluted_wines\": 3.4,\n",
      "    \"proline\": 1050.0\n",
      "  }\n",
      "]\n"
     ]
    }
   ],
   "source": [
    "# read from the database\n",
    "resp = requests.get(\"{}/sqlite_wine\".format(target), params={\"limit\": \"2\"})\n",
    "results = resp.json()\n",
    "print_readable_json(results)"
   ]
  },
  {
   "cell_type": "code",
   "execution_count": 14,
   "metadata": {},
   "outputs": [],
   "source": [
    "# kill the uvicorn subprocess\n",
    "proc_killed = uvicorn_proc.kill()"
   ]
  },
  {
   "cell_type": "code",
   "execution_count": 15,
   "metadata": {},
   "outputs": [
    {
     "name": "stdout",
     "output_type": "stream",
     "text": [
      "uvicorn pid exists: False\n"
     ]
    }
   ],
   "source": [
    "print(\"uvicorn pid exists: {}\".format(psutil.pid_exists(uvicorn_proc.pid)))"
   ]
  }
 ],
 "metadata": {
  "kernelspec": {
   "display_name": "Python 3",
   "language": "python",
   "name": "python3"
  },
  "language_info": {
   "codemirror_mode": {
    "name": "ipython",
    "version": 3
   },
   "file_extension": ".py",
   "mimetype": "text/x-python",
   "name": "python",
   "nbconvert_exporter": "python",
   "pygments_lexer": "ipython3",
   "version": "3.7.6"
  }
 },
 "nbformat": 4,
 "nbformat_minor": 4
}
