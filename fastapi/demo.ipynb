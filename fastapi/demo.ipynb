{
 "cells": [
  {
   "cell_type": "markdown",
   "metadata": {},
   "source": [
    "# FastAPI + Uvicorn Demo"
   ]
  },
  {
   "cell_type": "code",
   "execution_count": 1,
   "metadata": {},
   "outputs": [],
   "source": [
    "import json\n",
    "import subprocess\n",
    "import webbrowser\n",
    "\n",
    "import psutil\n",
    "import requests"
   ]
  },
  {
   "cell_type": "code",
   "execution_count": 2,
   "metadata": {},
   "outputs": [],
   "source": [
    "# readable output for JSON\n",
    "def print_readable_json(x: dict, indent: int = 2):\n",
    "    print(json.dumps(x, indent=indent))"
   ]
  },
  {
   "cell_type": "code",
   "execution_count": 3,
   "metadata": {},
   "outputs": [
    {
     "name": "stdout",
     "output_type": "stream",
     "text": [
      "uvicorn host process started with pid: 7088\n"
     ]
    }
   ],
   "source": [
    "# start and track a uvicorn subprocess\n",
    "uvicorn_proc = subprocess.Popen([\"python\", \"./app/uvicorn_host.py\"])\n",
    "print(\"uvicorn host process started with pid: {}\".format(uvicorn_proc.pid))"
   ]
  },
  {
   "cell_type": "code",
   "execution_count": 4,
   "metadata": {},
   "outputs": [
    {
     "name": "stdout",
     "output_type": "stream",
     "text": [
      "uvicorn pid exists: True\n"
     ]
    }
   ],
   "source": [
    "print(\"uvicorn pid exists: {}\".format(psutil.pid_exists(uvicorn_proc.pid)))"
   ]
  },
  {
   "cell_type": "code",
   "execution_count": 5,
   "metadata": {},
   "outputs": [],
   "source": [
    "target = \"http://localhost:5000\""
   ]
  },
  {
   "cell_type": "code",
   "execution_count": 6,
   "metadata": {},
   "outputs": [
    {
     "data": {
      "text/plain": [
       "True"
      ]
     },
     "execution_count": 6,
     "metadata": {},
     "output_type": "execute_result"
    }
   ],
   "source": [
    "# open the docs page for demonstrational purposes\n",
    "webbrowser.open(\"{}/docs\".format(target))"
   ]
  },
  {
   "cell_type": "code",
   "execution_count": 7,
   "metadata": {},
   "outputs": [
    {
     "name": "stdout",
     "output_type": "stream",
     "text": [
      "{\n",
      "  \"Hello\": \"World\"\n",
      "}\n"
     ]
    }
   ],
   "source": [
    "# test hello world\n",
    "resp = requests.get(target)\n",
    "print_readable_json(resp.json())"
   ]
  },
  {
   "cell_type": "code",
   "execution_count": 8,
   "metadata": {},
   "outputs": [
    {
     "name": "stdout",
     "output_type": "stream",
     "text": [
      "{\n",
      "  \"item_id\": 1,\n",
      "  \"q\": \"first item description\"\n",
      "}\n"
     ]
    }
   ],
   "source": [
    "# make an items request\n",
    "resp = requests.get(\"{}/items/1\".format(target), params={\"q\": \"first item description\"})\n",
    "print_readable_json(resp.json())"
   ]
  },
  {
   "cell_type": "code",
   "execution_count": 9,
   "metadata": {},
   "outputs": [
    {
     "name": "stdout",
     "output_type": "stream",
     "text": [
      "{\n",
      "  \"detail\": [\n",
      "    {\n",
      "      \"loc\": [\n",
      "        \"path\",\n",
      "        \"item_id\"\n",
      "      ],\n",
      "      \"msg\": \"value is not a valid integer\",\n",
      "      \"type\": \"type_error.integer\"\n",
      "    }\n",
      "  ]\n",
      "}\n"
     ]
    }
   ],
   "source": [
    "# send an improper request through\n",
    "resp = requests.get(\n",
    "    \"{}/items/first\".format(target), params={\"q\": \"first item description\"}\n",
    ")\n",
    "print_readable_json(resp.json())"
   ]
  },
  {
   "cell_type": "code",
   "execution_count": 10,
   "metadata": {},
   "outputs": [],
   "source": [
    "# kill the uvicorn subprocess\n",
    "proc_killed = uvicorn_proc.kill()"
   ]
  },
  {
   "cell_type": "code",
   "execution_count": 11,
   "metadata": {},
   "outputs": [
    {
     "name": "stdout",
     "output_type": "stream",
     "text": [
      "uvicorn pid exists: False\n"
     ]
    }
   ],
   "source": [
    "print(\"uvicorn pid exists: {}\".format(psutil.pid_exists(uvicorn_proc.pid)))"
   ]
  }
 ],
 "metadata": {
  "kernelspec": {
   "display_name": "Python 3",
   "language": "python",
   "name": "python3"
  },
  "language_info": {
   "codemirror_mode": {
    "name": "ipython",
    "version": 3
   },
   "file_extension": ".py",
   "mimetype": "text/x-python",
   "name": "python",
   "nbconvert_exporter": "python",
   "pygments_lexer": "ipython3",
   "version": "3.7.6"
  }
 },
 "nbformat": 4,
 "nbformat_minor": 4
}
